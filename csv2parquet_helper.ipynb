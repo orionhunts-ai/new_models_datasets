{
  "nbformat": 4,
  "nbformat_minor": 0,
  "metadata": {
    "colab": {
      "provenance": [],
      "name": "csv2parquet_helper.ipynb",
      "mount_file_id": "1ipqvaUsWRTWpnr4SMLiEb32WXILrCuSU",
      "authorship_tag": "ABX9TyMJFxF8HTFR3Ro174YiwdJ4",
      "include_colab_link": true
    },
    "kernelspec": {
      "name": "python3",
      "display_name": "Python 3"
    },
    "language_info": {
      "name": "python"
    }
  },
  "cells": [
    {
      "cell_type": "markdown",
      "metadata": {
        "id": "view-in-github",
        "colab_type": "text"
      },
      "source": [
        "<a href=\"https://colab.research.google.com/github/orionhunts-ai/new_models_datasets/blob/main/csv2parquet_helper.ipynb\" target=\"_parent\"><img src=\"https://colab.research.google.com/assets/colab-badge.svg\" alt=\"Open In Colab\"/></a>"
      ]
    },
    {
      "cell_type": "markdown",
      "source": [
        "# Data Preprocessing\n",
        "1. Convert to Parquet if required.\n",
        "2. Normalize\n",
        "3. Encode categorical variables\n",
        "4. Perform other feature extraction\n",
        "5. Generate a shared representation on a custom model\n",
        "6. Integrate with the OrionThreatG System."
      ],
      "metadata": {
        "id": "aaHCoXcyTQy3"
      }
    },
    {
      "cell_type": "code",
      "source": [
        "%pip install torch pyarrow wandb\n",
        "%pip install kaggle pytest --dev"
      ],
      "metadata": {
        "id": "zmCSKkyIQmQv"
      },
      "execution_count": null,
      "outputs": []
    },
    {
      "cell_type": "code",
      "execution_count": null,
      "metadata": {
        "id": "N9Dr-uiSPdDm"
      },
      "outputs": [],
      "source": [
        "!kaggle datasets download -d START-UMD/gtd"
      ]
    },
    {
      "cell_type": "code",
      "source": [
        "import pandas as pd\n",
        "import pyarrow as pa\n",
        "import pyarrow.parquet as pq"
      ],
      "metadata": {
        "id": "KZ61wezFS2SC"
      },
      "execution_count": null,
      "outputs": []
    },
    {
      "cell_type": "code",
      "source": [
        "from google.colab import userdata\n",
        "wandb_api_key = userdata.get('WANB_SYN_KEY')\n",
        "hf_hub_key = userdata.get('HF_HUB_WRITE')"
      ],
      "metadata": {
        "id": "wRkfmJGQVe5J"
      },
      "execution_count": null,
      "outputs": []
    },
    {
      "cell_type": "code",
      "source": [
        "csv_file_path = \"./path/to/your/data.csv\"\n",
        "df = pd.read_csv(csv_file_path)"
      ],
      "metadata": {
        "id": "aLEBkkXSS7wV"
      },
      "execution_count": null,
      "outputs": []
    },
    {
      "cell_type": "code",
      "source": [
        "#Convert the DataFrame to a Parquet format using pyarrow.\n",
        "table = pa.Table.from_pandas(df)"
      ],
      "metadata": {
        "id": "WK0u4EFOS-A7"
      },
      "execution_count": null,
      "outputs": []
    },
    {
      "cell_type": "code",
      "source": [
        "table = pa.Table.from_pandas(df)"
      ],
      "metadata": {
        "id": "sA7Dnu_JS_9y"
      },
      "execution_count": null,
      "outputs": []
    },
    {
      "cell_type": "code",
      "source": [
        "parquet_file_path = \"./path/to/your/data.parquet\"\n",
        "pq.write_table(table, parquet_file_path)"
      ],
      "metadata": {
        "id": "cpi7W2eYTI-K"
      },
      "execution_count": null,
      "outputs": []
    }
  ]
}