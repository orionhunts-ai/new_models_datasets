{
  "nbformat": 4,
  "nbformat_minor": 0,
  "metadata": {
    "colab": {
      "provenance": [],
      "mount_file_id": "1Ji--z2KkIsJlTglJBKgsqVBrJzah7Hp2",
      "authorship_tag": "ABX9TyMVfcnjyFQen96WSCwqJM9z",
      "include_colab_link": true
    },
    "kernelspec": {
      "name": "python3",
      "display_name": "Python 3"
    },
    "language_info": {
      "name": "python"
    }
  },
  "cells": [
    {
      "cell_type": "markdown",
      "metadata": {
        "id": "view-in-github",
        "colab_type": "text"
      },
      "source": [
        "<a href=\"https://colab.research.google.com/github/orionhunts-ai/new_models_datasets/blob/main/poetic_storyteller_fluxOSS_0x0.ipynb\" target=\"_parent\"><img src=\"https://colab.research.google.com/assets/colab-badge.svg\" alt=\"Open In Colab\"/></a>"
      ]
    },
    {
      "cell_type": "markdown",
      "source": [
        "# Markov GPT Storytelling Based on Finely Tuned SLM using PET"
      ],
      "metadata": {
        "id": "7NMs_Y4F0G_R"
      }
    },
    {
      "cell_type": "code",
      "source": [
        "%pip install -qqq markovify openai python-dotenv pyarrow textblob wandb"
      ],
      "metadata": {
        "id": "TxADLoxDyB7o"
      },
      "execution_count": 1,
      "outputs": []
    },
    {
      "cell_type": "code",
      "source": [
        "from google.colab import userdata\n",
        "import wandb\n",
        "!export WANDB_FLUX=549204b31c8e5a20eed488944e715a7f19cb9a79\n",
        "!wandb login $WANDB_FLUX\n",
        "wandb.finish()\n",
        "wandb.init(project=\"flux2poetry\", job_type=\"markov_transformer_pre\",settings=wandb.Settings(start_method=\"fork\"))\n"
      ],
      "metadata": {
        "colab": {
          "base_uri": "https://localhost:8080/",
          "height": 182
        },
        "id": "u1g-Go1c3IF2",
        "outputId": "44ed97ab-3f02-4fd8-8aa0-d228e8ce28c8"
      },
      "execution_count": 4,
      "outputs": [
        {
          "output_type": "stream",
          "name": "stdout",
          "text": [
            "\u001b[34m\u001b[1mwandb\u001b[0m: Currently logged in as: \u001b[33morionhunts\u001b[0m (\u001b[33msynavatelabs\u001b[0m). Use \u001b[1m`wandb login --relogin`\u001b[0m to force relogin\n"
          ]
        },
        {
          "output_type": "stream",
          "name": "stderr",
          "text": [
            "\u001b[34m\u001b[1mwandb\u001b[0m: Currently logged in as: \u001b[33morionhunts\u001b[0m (\u001b[33msynavatelabs\u001b[0m). Use \u001b[1m`wandb login --relogin`\u001b[0m to force relogin\n"
          ]
        },
        {
          "output_type": "display_data",
          "data": {
            "text/plain": [
              "<IPython.core.display.HTML object>"
            ],
            "text/html": [
              "Tracking run with wandb version 0.17.7"
            ]
          },
          "metadata": {}
        },
        {
          "output_type": "display_data",
          "data": {
            "text/plain": [
              "<IPython.core.display.HTML object>"
            ],
            "text/html": [
              "Run data is saved locally in <code>/content/wandb/run-20240827_083330-qsry0tak</code>"
            ]
          },
          "metadata": {}
        },
        {
          "output_type": "display_data",
          "data": {
            "text/plain": [
              "<IPython.core.display.HTML object>"
            ],
            "text/html": [
              "Syncing run <strong><a href='https://wandb.ai/synavatelabs/flux2poetry/runs/qsry0tak' target=\"_blank\">eager-capybara-1</a></strong> to <a href='https://wandb.ai/synavatelabs/flux2poetry' target=\"_blank\">Weights & Biases</a> (<a href='https://wandb.me/run' target=\"_blank\">docs</a>)<br/>"
            ]
          },
          "metadata": {}
        },
        {
          "output_type": "display_data",
          "data": {
            "text/plain": [
              "<IPython.core.display.HTML object>"
            ],
            "text/html": [
              " View project at <a href='https://wandb.ai/synavatelabs/flux2poetry' target=\"_blank\">https://wandb.ai/synavatelabs/flux2poetry</a>"
            ]
          },
          "metadata": {}
        },
        {
          "output_type": "display_data",
          "data": {
            "text/plain": [
              "<IPython.core.display.HTML object>"
            ],
            "text/html": [
              " View run at <a href='https://wandb.ai/synavatelabs/flux2poetry/runs/qsry0tak' target=\"_blank\">https://wandb.ai/synavatelabs/flux2poetry/runs/qsry0tak</a>"
            ]
          },
          "metadata": {}
        },
        {
          "output_type": "execute_result",
          "data": {
            "text/html": [
              "<button onClick=\"this.nextSibling.style.display='block';this.style.display='none';\">Display W&B run</button><iframe src='https://wandb.ai/synavatelabs/flux2poetry/runs/qsry0tak?jupyter=true' style='border:none;width:100%;height:420px;display:none;'></iframe>"
            ],
            "text/plain": [
              "<wandb.sdk.wandb_run.Run at 0x7ee3b130a6b0>"
            ]
          },
          "metadata": {},
          "execution_count": 4
        }
      ]
    },
    {
      "cell_type": "code",
      "source": [
        "import pandas as pd\n",
        "import markovify\n",
        "import openai\n",
        "import os\n",
        "from dotenv import load_dotenv\n",
        "from textblob import TextBlob"
      ],
      "metadata": {
        "id": "55sYGlU41HJq"
      },
      "execution_count": 5,
      "outputs": []
    },
    {
      "cell_type": "code",
      "source": [
        "df_poetry = \"/content/drive/MyDrive/repos/datasets/flux_poetry/poetry_orion_processed_0x0.csv\"\n",
        "df_books = \"/content/drive/MyDrive/repos/datasets/flux_poetry/goodread_books_orion_processed_0x0.csv\""
      ],
      "metadata": {
        "id": "Qb7t1Wuw0PcW"
      },
      "execution_count": 7,
      "outputs": []
    },
    {
      "cell_type": "code",
      "source": [
        "import wandb\n",
        "\n",
        "'''\n",
        "\n",
        "WANDB LOGGING FOR MARKOV CHAIN\n",
        "\n",
        "'''\n",
        "\n",
        "def log_markov_chain_analysis(correlation_matrix, generated_text, markov_model, run_name=\"markov_chain_analysis\"):\n",
        "    wandb.init(project=\"flux2poetry\", name=run_name)\n",
        "\n",
        "    wandb.log({\"correlation_matrix_markov\": wandb.Table(dataframe=correlation_matrix)})\n",
        "    wandb.log({\"generated_text_markov\": generated_text})\n",
        "\n",
        "    wandb.config.update({\n",
        "        \"state_size\": markov_model.state_size,\n",
        "        \"corpus_size\": len(markov_model.chain.model),\n",
        "    })\n",
        "\n",
        "    model_artifact = wandb.Artifact(\"markov_chain_model\", type=\"model\")\n",
        "    model_artifact.add_file(\"markov_model.pkl\")\n",
        "    wandb.log_artifact(model_artifact)\n",
        "\n",
        "    wandb.finish()\n",
        "'''\n",
        "SEPARATE LOGGING ON WANDB FOR TRANSFORMER MODELS\n",
        "\n",
        "'''\n",
        "def log_transformer_analysis(correlation_matrix, generated_text, model_name=\"gpt2\", tokenizer_name=\"gpt2\", run_name=\"transformer_analysis\"):\n",
        "    wandb.init(project=\"flux2poetry\", name=run_name)\n",
        "\n",
        "    wandb.log({\"correlation_matrix_transformer\": wandb.Table(dataframe=correlation_matrix)})\n",
        "    wandb.log({\"generated_text_transformer\": generated_text})\n",
        "\n",
        "    wandb.config.update({\n",
        "        \"model_name\": model_name,\n",
        "        \"tokenizer_name\": tokenizer_name,\n",
        "    })\n",
        "\n",
        "    model_artifact = wandb.Artifact(\"transformer_model\", type=\"model\")\n",
        "    model_artifact.add_file(f\"{model_name}_model.pth\")\n",
        "    wandb.log_artifact(model_artifact)\n",
        "\n",
        "    wandb.finish()"
      ],
      "metadata": {
        "id": "F8BAZJAs43Z1"
      },
      "execution_count": 8,
      "outputs": []
    },
    {
      "cell_type": "code",
      "source": [
        "%pip install uuid\n",
        "from uuid import uuid4\n",
        "\n",
        "def wandb_history(run):\n",
        "  api = wandb.Api()\n",
        "  # run is specified by <entity>/<project>/<run_id>\n",
        "  run = api.run(f\"orion-agents/flux2poetry/{uuid4()}\")\n",
        "\n",
        "  # save the metrics for the run to a csv file\n",
        "  metrics_dataframe = run.history()\n",
        "  return metrics_dataframe.to_csv(f\"run_{wandb.run}_metrics.csv\")"
      ],
      "metadata": {
        "colab": {
          "base_uri": "https://localhost:8080/"
        },
        "id": "t78FBgyr8ZXF",
        "outputId": "eaacead3-24fa-4a72-ab29-1d6698f85b9e"
      },
      "execution_count": 12,
      "outputs": [
        {
          "output_type": "stream",
          "name": "stdout",
          "text": [
            "Requirement already satisfied: uuid in /usr/local/lib/python3.10/dist-packages (1.30)\n"
          ]
        }
      ]
    },
    {
      "cell_type": "markdown",
      "source": [
        "## Unifying Data"
      ],
      "metadata": {
        "id": "4d58dKeh0jtL"
      }
    },
    {
      "cell_type": "code",
      "source": [
        "# DF_BOOKS\n",
        "df_books = pd.read_csv(df_books)\n",
        "#DF_POETRY\n",
        "df_poetry = pd.read_csv(df_poetry)"
      ],
      "metadata": {
        "id": "_fn_hfIh1m-T"
      },
      "execution_count": 13,
      "outputs": []
    },
    {
      "cell_type": "code",
      "source": [
        "df_books['unified_text'] = df_books['title'] + \" \" + df_books['description'] + \" \" + df_books['genres']\n",
        "df_poetry['unified_text'] = df_poetry['Titles'] + \" \" + df_poetry['Poem'] + \" \" + df_poetry['Poet']\n",
        "\n",
        "# Combine both datasets into one\n",
        "combined_df = pd.concat([df_books[['unified_text', 'book_text_sentiment']],\n",
        "                         df_poetry[['unified_text', 'poem_sentiment']]],\n",
        "                        ignore_index=True)\n",
        "\n",
        "# Normalize sentiment scores (assuming they are on different scales)\n",
        "combined_df['normalized_sentiment'] = combined_df[['book_text_sentiment', 'poem_sentiment']].mean(axis=1, skipna=True)"
      ],
      "metadata": {
        "id": "KZNc-ocm0i7J"
      },
      "execution_count": 14,
      "outputs": []
    },
    {
      "cell_type": "code",
      "source": [
        "import pandas as pd\n",
        "import seaborn as sns\n",
        "import matplotlib.pyplot as plt\n",
        "\n",
        "# Assuming combined_df is already defined and includes numerical columns\n",
        "\n",
        "# Select numerical columns for correlation\n",
        "numerical_columns = combined_df.select_dtypes(include=['float64', 'int64'])\n",
        "\n",
        "# Compute the correlation matrix\n",
        "correlation_matrix = numerical_columns.corr()\n",
        "wandb.log({\"correlation_matrix\":correlation_matrix})\n",
        "corr_csv = correlation_matrix.to_csv(\"/content/drive/MyDrive/repos/datasets/flux_poetry/artifacts/flux_poetry_corr_matrix0x0.csv\")\n",
        "art_corr = wandb.Artifact(\"correlation_matrix\", type=\"correlation\")\n",
        "art_corr.add_file(\"/content/drive/MyDrive/repos/datasets/flux_poetry/artifacts/flux_poetry_corr_matrix0x0.csv\")\n",
        "wandb.log_artifact(art_corr)\n",
        "\n",
        "# Display the correlation matrix\n",
        "print(correlation_matrix)\n",
        "\n",
        "# Optionally, visualize the correlation matrix using seaborn\n",
        "plt.figure(figsize=(10, 8))\n",
        "sns.heatmap(correlation_matrix, annot=True, fmt='.2f', cmap='coolwarm')\n",
        "plt.title('Correlation Matrix')\n",
        "plt.show()"
      ],
      "metadata": {
        "colab": {
          "base_uri": "https://localhost:8080/",
          "height": 725
        },
        "id": "N77ikoyI55j1",
        "outputId": "1c30fba2-08a5-4ebd-8175-c2251d91042c"
      },
      "execution_count": 17,
      "outputs": [
        {
          "output_type": "stream",
          "name": "stdout",
          "text": [
            "                      book_text_sentiment  poem_sentiment  \\\n",
            "book_text_sentiment                   1.0             NaN   \n",
            "poem_sentiment                        NaN             1.0   \n",
            "normalized_sentiment                  1.0             1.0   \n",
            "\n",
            "                      normalized_sentiment  \n",
            "book_text_sentiment                    1.0  \n",
            "poem_sentiment                         1.0  \n",
            "normalized_sentiment                   1.0  \n"
          ]
        },
        {
          "output_type": "display_data",
          "data": {
            "text/plain": [
              "<Figure size 1000x800 with 2 Axes>"
            ],
            "image/png": "[encoded data removed]"
          },
          "metadata": {}
        }
      ]
    },
    {
      "cell_type": "code",
      "source": [
        "wandb.log({\"dataset\":combined_df})\n",
        "combined_df.to_csv(\"/content/drive/MyDrive/repos/datasets/flux_poetry/artifacts/combined_df.csv\")"
      ],
      "metadata": {
        "id": "-C6ulf9o3f77"
      },
      "execution_count": 21,
      "outputs": []
    },
    {
      "cell_type": "code",
      "source": [
        "art_run = wandb.Artifact(\"combined_df\", type=\"dataset\")\n",
        "art_run.add_file(\"/content/drive/MyDrive/repos/datasets/flux_poetry/artifacts/combined_df.csv\")\n",
        "wandb.log_artifact(art_run)"
      ],
      "metadata": {
        "colab": {
          "base_uri": "https://localhost:8080/"
        },
        "id": "68Qd21qk_Rk4",
        "outputId": "de4edeb6-e55e-4804-884d-8d00d2bf0475"
      },
      "execution_count": 22,
      "outputs": [
        {
          "output_type": "execute_result",
          "data": {
            "text/plain": [
              "<Artifact combined_df>"
            ]
          },
          "metadata": {},
          "execution_count": 22
        }
      ]
    },
    {
      "cell_type": "code",
      "source": [
        "encoding_markov = combined_df.copy()\n",
        "encoding_llama3 = combined_df.copy()\n"
      ],
      "metadata": {
        "id": "MTC9rMst2IgJ"
      },
      "execution_count": 23,
      "outputs": []
    },
    {
      "cell_type": "markdown",
      "source": [
        "# Markov Data Preparation"
      ],
      "metadata": {
        "id": "856Te3CG20LB"
      }
    },
    {
      "cell_type": "code",
      "source": [],
      "metadata": {
        "id": "hKm2cK3R2219"
      },
      "execution_count": null,
      "outputs": []
    },
    {
      "cell_type": "code",
      "source": [],
      "metadata": {
        "id": "dAnqgSJA2a00"
      },
      "execution_count": null,
      "outputs": []
    },
    {
      "cell_type": "markdown",
      "source": [],
      "metadata": {
        "id": "X_wUxvl42Yt_"
      }
    }
  ]
}